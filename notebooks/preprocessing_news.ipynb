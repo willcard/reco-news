{
 "cells": [
  {
   "cell_type": "code",
   "execution_count": 8,
   "id": "ab952ba2-ed16-4862-a4df-ff13c5967e14",
   "metadata": {},
   "outputs": [],
   "source": [
    "from sys import path\n",
    "path.insert(0, '../')\n",
    "\n",
    "from news_api import api_requests,const"
   ]
  },
  {
   "cell_type": "code",
   "execution_count": 86,
   "id": "f020ee37-530c-4040-b0a8-1884450658b1",
   "metadata": {},
   "outputs": [],
   "source": [
    "import pandas as pd\n",
    "from tqdm import tqdm\n",
    "from time import sleep\n",
    "from urllib.parse import urlparse\n",
    "from datetime import datetime\n",
    "\n",
    "pd.set_option('display.max_colwidth',150)"
   ]
  },
  {
   "cell_type": "code",
   "execution_count": 17,
   "id": "bba9be8f-689a-43b6-ae04-2d7027068974",
   "metadata": {},
   "outputs": [
    {
     "name": "stderr",
     "output_type": "stream",
     "text": [
      "100%|█████████████████████████████████████████████████████████████████████████████████| 54/54 [01:05<00:00,  1.21s/it]\n"
     ]
    }
   ],
   "source": [
    "allnews = {}\n",
    "\n",
    "for country_code in tqdm(const.COUNTRIES):\n",
    "    try:\n",
    "        country_news = api_requests.get_articles(country_code)\n",
    "    except Exception as err:\n",
    "        country_news = []\n",
    "        print(f'{country_code} failed:')\n",
    "        \n",
    "    allnews[country_code] = country_news\n",
    "    sleep(1)"
   ]
  },
  {
   "cell_type": "code",
   "execution_count": 66,
   "id": "876441b3-218e-40a7-a611-9f106a544cee",
   "metadata": {},
   "outputs": [],
   "source": [
    "allnews_flatten = []\n",
    "\n",
    "for ctr,nws in allnews.items():\n",
    "    for n in nws:\n",
    "        n['country'] = ctr\n",
    "        allnews_flatten.append(n)\n",
    "\n",
    "allnews_flatten = pd.DataFrame(allnews_flatten)"
   ]
  },
  {
   "cell_type": "code",
   "execution_count": 67,
   "id": "5f970442-0d8f-4e0e-ac7a-b4e5a615c050",
   "metadata": {},
   "outputs": [],
   "source": [
    "def website_parser(url):\n",
    "    return urlparse(url).netloc\n",
    "    \n",
    "allnews_flatten['source_website'] = allnews_flatten['url'].apply(website_parser)\n",
    "allnews_flatten = allnews_flatten[['country', 'source_website', 'author', 'title', 'publishedAt']]"
   ]
  },
  {
   "cell_type": "code",
   "execution_count": 71,
   "id": "220bb6f7-941c-408e-817a-d3069c285e9f",
   "metadata": {},
   "outputs": [
    {
     "data": {
      "text/plain": [
       "source_website\n",
       "news.google.com                931\n",
       "www.youtube.com                  9\n",
       "timesofindia.indiatimes.com      5\n",
       "www.nu.nl                        5\n",
       "www.chosun.com                   4\n",
       "www.ndtv.com                     4\n",
       "www.bbc.com                      4\n",
       "www.chinanews.com.cn             3\n",
       "www.hani.co.kr                   3\n",
       "www3.nhk.or.jp                   3\n",
       "Name: count, dtype: int64"
      ]
     },
     "execution_count": 71,
     "metadata": {},
     "output_type": "execute_result"
    }
   ],
   "source": [
    "allnews_flatten['source_website'].value_counts()[:10]"
   ]
  },
  {
   "cell_type": "code",
   "execution_count": 72,
   "id": "19a616c1-a684-40ae-b2a1-a2a694ed1b2d",
   "metadata": {},
   "outputs": [
    {
     "data": {
      "text/plain": [
       "author\n",
       "Aktuality.sk      8\n",
       "DELFI             7\n",
       "CNA               7\n",
       "The Guardian      7\n",
       "Novinky.cz        7\n",
       "CNN en Español    7\n",
       "Yahoo奇摩新聞         7\n",
       "infobae           7\n",
       "RTV Slovenija     6\n",
       "Le Monde          6\n",
       "Name: count, dtype: int64"
      ]
     },
     "execution_count": 72,
     "metadata": {},
     "output_type": "execute_result"
    }
   ],
   "source": [
    "allnews_flatten['author'].value_counts()[:10]"
   ]
  },
  {
   "cell_type": "code",
   "execution_count": 88,
   "id": "3d769862-458e-4cbe-8be7-e80f694ac5aa",
   "metadata": {},
   "outputs": [],
   "source": [
    "date_version = datetime.today().strftime('%d%m%y-%Hh%M')\n",
    "\n",
    "allnews_flatten.to_csv(f'data/news_export_{date_version}.csv')"
   ]
  }
 ],
 "metadata": {
  "kernelspec": {
   "display_name": "Python 3 (ipykernel)",
   "language": "python",
   "name": "python3"
  },
  "language_info": {
   "codemirror_mode": {
    "name": "ipython",
    "version": 3
   },
   "file_extension": ".py",
   "mimetype": "text/x-python",
   "name": "python",
   "nbconvert_exporter": "python",
   "pygments_lexer": "ipython3",
   "version": "3.11.6"
  }
 },
 "nbformat": 4,
 "nbformat_minor": 5
}

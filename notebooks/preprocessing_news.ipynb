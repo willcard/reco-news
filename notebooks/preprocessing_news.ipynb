{
 "cells": [
  {
   "cell_type": "code",
   "execution_count": 8,
   "id": "ab952ba2-ed16-4862-a4df-ff13c5967e14",
   "metadata": {},
   "outputs": [],
   "source": [
    "from sys import path\n",
    "path.insert(0, '../')\n",
    "\n",
    "from news_api import api_requests,const"
   ]
  },
  {
   "cell_type": "code",
   "execution_count": 86,
   "id": "f020ee37-530c-4040-b0a8-1884450658b1",
   "metadata": {},
   "outputs": [],
   "source": [
    "import pandas as pd\n",
    "from tqdm import tqdm\n",
    "from time import sleep\n",
    "from urllib.parse import urlparse\n",
    "from datetime import datetime\n",
    "\n",
    "pd.set_option('display.max_colwidth',150)"
   ]
  },
  {
   "cell_type": "code",
   "execution_count": 17,
   "id": "bba9be8f-689a-43b6-ae04-2d7027068974",
   "metadata": {},
   "outputs": [
    {
     "name": "stderr",
     "output_type": "stream",
     "text": [
      "100%|█████████████████████████████████████████████████████████████████████████████████| 54/54 [01:05<00:00,  1.21s/it]\n"
     ]
    }
   ],
   "source": [
    "allnews = {}\n",
    "\n",
    "for country_code in tqdm(const.COUNTRIES):\n",
    "    try:\n",
    "        country_news = api_requests.get_articles(country_code)\n",
    "    except Exception as err:\n",
    "        country_news = []\n",
    "        print(f'{country_code} failed:')\n",
    "        \n",
    "    allnews[country_code] = country_news\n",
    "    sleep(1)"
   ]
  },
  {
   "cell_type": "code",
   "execution_count": 66,
   "id": "876441b3-218e-40a7-a611-9f106a544cee",
   "metadata": {},
   "outputs": [],
   "source": [
    "allnews_flatten = []\n",
    "\n",
    "for ctr,nws in allnews.items():\n",
    "    for n in nws:\n",
    "        n['country'] = ctr\n",
    "        allnews_flatten.append(n)\n",
    "\n",
    "allnews_flatten = pd.DataFrame(allnews_flatten)"
   ]
  },
  {
   "cell_type": "code",
   "execution_count": 67,
   "id": "5f970442-0d8f-4e0e-ac7a-b4e5a615c050",
   "metadata": {},
   "outputs": [],
   "source": [
    "def website_parser(url):\n",
    "    return urlparse(url).netloc\n",
    "    \n",
    "allnews_flatten['source_website'] = allnews_flatten['url'].apply(website_parser)\n",
    "allnews_flatten = allnews_flatten[['country', 'source_website', 'author', 'title', 'publishedAt']]"
   ]
  },
  {
   "cell_type": "code",
   "execution_count": 71,
   "id": "220bb6f7-941c-408e-817a-d3069c285e9f",
   "metadata": {},
   "outputs": [
    {
     "data": {
      "text/plain": [
       "source_website\n",
       "news.google.com                931\n",
       "www.youtube.com                  9\n",
       "timesofindia.indiatimes.com      5\n",
       "www.nu.nl                        5\n",
       "www.chosun.com                   4\n",
       "www.ndtv.com                     4\n",
       "www.bbc.com                      4\n",
       "www.chinanews.com.cn             3\n",
       "www.hani.co.kr                   3\n",
       "www3.nhk.or.jp                   3\n",
       "Name: count, dtype: int64"
      ]
     },
     "execution_count": 71,
     "metadata": {},
     "output_type": "execute_result"
    }
   ],
   "source": [
    "allnews_flatten['source_website'].value_counts()[:10]"
   ]
  },
  {
   "cell_type": "code",
   "execution_count": 72,
   "id": "19a616c1-a684-40ae-b2a1-a2a694ed1b2d",
   "metadata": {},
   "outputs": [
    {
     "data": {
      "text/plain": [
       "author\n",
       "Aktuality.sk      8\n",
       "DELFI             7\n",
       "CNA               7\n",
       "The Guardian      7\n",
       "Novinky.cz        7\n",
       "CNN en Español    7\n",
       "Yahoo奇摩新聞         7\n",
       "infobae           7\n",
       "RTV Slovenija     6\n",
       "Le Monde          6\n",
       "Name: count, dtype: int64"
      ]
     },
     "execution_count": 72,
     "metadata": {},
     "output_type": "execute_result"
    }
   ],
   "source": [
    "allnews_flatten['author'].value_counts()[:10]"
   ]
  },
  {
   "cell_type": "code",
   "execution_count": 92,
   "id": "3d769862-458e-4cbe-8be7-e80f694ac5aa",
   "metadata": {},
   "outputs": [],
   "source": [
    "date_version = datetime.today().strftime('%d%m%y-%Hh%M')\n",
    "\n",
    "allnews_flatten.to_csv(f'data/news_export_{date_version}.csv', index=False)"
   ]
  },
  {
   "cell_type": "code",
   "execution_count": 91,
   "id": "49a67364-21df-4929-8023-a73b95cf3001",
   "metadata": {},
   "outputs": [
    {
     "data": {
      "text/html": [
       "<div>\n",
       "<style scoped>\n",
       "    .dataframe tbody tr th:only-of-type {\n",
       "        vertical-align: middle;\n",
       "    }\n",
       "\n",
       "    .dataframe tbody tr th {\n",
       "        vertical-align: top;\n",
       "    }\n",
       "\n",
       "    .dataframe thead th {\n",
       "        text-align: right;\n",
       "    }\n",
       "</style>\n",
       "<table border=\"1\" class=\"dataframe\">\n",
       "  <thead>\n",
       "    <tr style=\"text-align: right;\">\n",
       "      <th></th>\n",
       "      <th>country</th>\n",
       "      <th>source_website</th>\n",
       "      <th>author</th>\n",
       "      <th>title</th>\n",
       "      <th>publishedAt</th>\n",
       "    </tr>\n",
       "  </thead>\n",
       "  <tbody>\n",
       "    <tr>\n",
       "      <th>0</th>\n",
       "      <td>mx</td>\n",
       "      <td>news.google.com</td>\n",
       "      <td>El Universal</td>\n",
       "      <td>La Mañanera de AMLO, 31 de enero, minuto a minuto - El Universal</td>\n",
       "      <td>2024-01-31T14:33:34Z</td>\n",
       "    </tr>\n",
       "    <tr>\n",
       "      <th>1</th>\n",
       "      <td>mx</td>\n",
       "      <td>news.google.com</td>\n",
       "      <td>Periódico Excélsior</td>\n",
       "      <td>Tensión entre Miguel Herrera e Iván Alonso; 'enano de mi***' - Periódico Excélsior</td>\n",
       "      <td>2024-01-31T13:19:44Z</td>\n",
       "    </tr>\n",
       "    <tr>\n",
       "      <th>2</th>\n",
       "      <td>mx</td>\n",
       "      <td>news.google.com</td>\n",
       "      <td>Periódico Excélsior</td>\n",
       "      <td>La sed que acecha (y asecha) - Periódico Excélsior</td>\n",
       "      <td>2024-01-31T07:31:47Z</td>\n",
       "    </tr>\n",
       "    <tr>\n",
       "      <th>3</th>\n",
       "      <td>mx</td>\n",
       "      <td>news.google.com</td>\n",
       "      <td>Nintenderos.com</td>\n",
       "      <td>Critican duramente estas palabras de analistas sobre Nintendo Switch 2: \"La consola ni siquiera ha sido anunciada\" - Nintenderos.com</td>\n",
       "      <td>2024-01-31T06:24:35Z</td>\n",
       "    </tr>\n",
       "    <tr>\n",
       "      <th>4</th>\n",
       "      <td>mx</td>\n",
       "      <td>news.google.com</td>\n",
       "      <td>TUDN</td>\n",
       "      <td>Chivas derrota al Toluca en partido de la Jornada 4 del Clausura 2024 | TUDN Liga MX - TUDN</td>\n",
       "      <td>2024-01-31T05:33:00Z</td>\n",
       "    </tr>\n",
       "    <tr>\n",
       "      <th>...</th>\n",
       "      <td>...</td>\n",
       "      <td>...</td>\n",
       "      <td>...</td>\n",
       "      <td>...</td>\n",
       "      <td>...</td>\n",
       "    </tr>\n",
       "    <tr>\n",
       "      <th>1075</th>\n",
       "      <td>ma</td>\n",
       "      <td>news.google.com</td>\n",
       "      <td>Graphiline.com, le magazine des Arts Graphiques et de l'imprimerie</td>\n",
       "      <td>La SureColor-V1000, l'imprimante UV A4 d'Epson pour l'impression directe sur objet - Graphiline.com, le magazine des Arts Graphiques et de l'impri...</td>\n",
       "      <td>2024-01-31T08:30:26Z</td>\n",
       "    </tr>\n",
       "    <tr>\n",
       "      <th>1076</th>\n",
       "      <td>ma</td>\n",
       "      <td>news.google.com</td>\n",
       "      <td>Médias 24</td>\n",
       "      <td>Combats intenses à Khan Younès, appels à sauver l'Unrwa - Médias24 - Médias 24</td>\n",
       "      <td>2024-01-31T04:04:16Z</td>\n",
       "    </tr>\n",
       "    <tr>\n",
       "      <th>1077</th>\n",
       "      <td>ma</td>\n",
       "      <td>news.google.com</td>\n",
       "      <td>Orient XXI</td>\n",
       "      <td>À la Cour internationale de justice, un revers pour Israël - Orient XXI</td>\n",
       "      <td>2024-01-30T23:47:23Z</td>\n",
       "    </tr>\n",
       "    <tr>\n",
       "      <th>1078</th>\n",
       "      <td>ma</td>\n",
       "      <td>news.google.com</td>\n",
       "      <td>90min UK</td>\n",
       "      <td>Cap-Vert - Afrique du Sud : Sur quelle chaîne, à quelle heure et les news de ce quart de finale de la CAN 2024 - 90min UK</td>\n",
       "      <td>2024-01-30T22:28:22Z</td>\n",
       "    </tr>\n",
       "    <tr>\n",
       "      <th>1079</th>\n",
       "      <td>ma</td>\n",
       "      <td>news.google.com</td>\n",
       "      <td>Le Monde</td>\n",
       "      <td>CAN 2024 : le Mali s'envole en quarts de finale après sa victoire contre le Burkina Faso - Le Monde</td>\n",
       "      <td>2024-01-30T19:36:46Z</td>\n",
       "    </tr>\n",
       "  </tbody>\n",
       "</table>\n",
       "<p>1080 rows × 5 columns</p>\n",
       "</div>"
      ],
      "text/plain": [
       "     country   source_website  \\\n",
       "0         mx  news.google.com   \n",
       "1         mx  news.google.com   \n",
       "2         mx  news.google.com   \n",
       "3         mx  news.google.com   \n",
       "4         mx  news.google.com   \n",
       "...      ...              ...   \n",
       "1075      ma  news.google.com   \n",
       "1076      ma  news.google.com   \n",
       "1077      ma  news.google.com   \n",
       "1078      ma  news.google.com   \n",
       "1079      ma  news.google.com   \n",
       "\n",
       "                                                                  author  \\\n",
       "0                                                           El Universal   \n",
       "1                                                    Periódico Excélsior   \n",
       "2                                                    Periódico Excélsior   \n",
       "3                                                        Nintenderos.com   \n",
       "4                                                                   TUDN   \n",
       "...                                                                  ...   \n",
       "1075  Graphiline.com, le magazine des Arts Graphiques et de l'imprimerie   \n",
       "1076                                                           Médias 24   \n",
       "1077                                                          Orient XXI   \n",
       "1078                                                            90min UK   \n",
       "1079                                                            Le Monde   \n",
       "\n",
       "                                                                                                                                                      title  \\\n",
       "0                                                                                          La Mañanera de AMLO, 31 de enero, minuto a minuto - El Universal   \n",
       "1                                                                        Tensión entre Miguel Herrera e Iván Alonso; 'enano de mi***' - Periódico Excélsior   \n",
       "2                                                                                                        La sed que acecha (y asecha) - Periódico Excélsior   \n",
       "3                      Critican duramente estas palabras de analistas sobre Nintendo Switch 2: \"La consola ni siquiera ha sido anunciada\" - Nintenderos.com   \n",
       "4                                                               Chivas derrota al Toluca en partido de la Jornada 4 del Clausura 2024 | TUDN Liga MX - TUDN   \n",
       "...                                                                                                                                                     ...   \n",
       "1075  La SureColor-V1000, l'imprimante UV A4 d'Epson pour l'impression directe sur objet - Graphiline.com, le magazine des Arts Graphiques et de l'impri...   \n",
       "1076                                                                         Combats intenses à Khan Younès, appels à sauver l'Unrwa - Médias24 - Médias 24   \n",
       "1077                                                                                À la Cour internationale de justice, un revers pour Israël - Orient XXI   \n",
       "1078                              Cap-Vert - Afrique du Sud : Sur quelle chaîne, à quelle heure et les news de ce quart de finale de la CAN 2024 - 90min UK   \n",
       "1079                                                    CAN 2024 : le Mali s'envole en quarts de finale après sa victoire contre le Burkina Faso - Le Monde   \n",
       "\n",
       "               publishedAt  \n",
       "0     2024-01-31T14:33:34Z  \n",
       "1     2024-01-31T13:19:44Z  \n",
       "2     2024-01-31T07:31:47Z  \n",
       "3     2024-01-31T06:24:35Z  \n",
       "4     2024-01-31T05:33:00Z  \n",
       "...                    ...  \n",
       "1075  2024-01-31T08:30:26Z  \n",
       "1076  2024-01-31T04:04:16Z  \n",
       "1077  2024-01-30T23:47:23Z  \n",
       "1078  2024-01-30T22:28:22Z  \n",
       "1079  2024-01-30T19:36:46Z  \n",
       "\n",
       "[1080 rows x 5 columns]"
      ]
     },
     "execution_count": 91,
     "metadata": {},
     "output_type": "execute_result"
    }
   ],
   "source": [
    "allnews_flatten"
   ]
  }
 ],
 "metadata": {
  "kernelspec": {
   "display_name": "Python 3 (ipykernel)",
   "language": "python",
   "name": "python3"
  },
  "language_info": {
   "codemirror_mode": {
    "name": "ipython",
    "version": 3
   },
   "file_extension": ".py",
   "mimetype": "text/x-python",
   "name": "python",
   "nbconvert_exporter": "python",
   "pygments_lexer": "ipython3",
   "version": "3.11.6"
  }
 },
 "nbformat": 4,
 "nbformat_minor": 5
}

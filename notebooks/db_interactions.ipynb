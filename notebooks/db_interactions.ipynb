{
 "cells": [
  {
   "cell_type": "code",
   "execution_count": 79,
   "id": "8b2bf9ce-714d-458f-91ed-a268b0f97bfd",
   "metadata": {},
   "outputs": [],
   "source": [
    "from sys import path\n",
    "path.insert(0,'..')\n",
    "\n",
    "from news_api import db_interactions, config"
   ]
  },
  {
   "cell_type": "code",
   "execution_count": 72,
   "id": "8c1ce616-a8f8-4c9d-a487-1e382e9d1668",
   "metadata": {},
   "outputs": [],
   "source": [
    "import psycopg\n",
    "from psycopg import sql\n",
    "\n",
    "import pandas as pd"
   ]
  },
  {
   "cell_type": "code",
   "execution_count": 95,
   "id": "c89e172b-f08e-4c5e-b4bd-3def516a9468",
   "metadata": {},
   "outputs": [],
   "source": [
    "def create_news_table() -> None:\n",
    "    create_table_command = \"\"\"\n",
    "    CREATE TABLE IF NOT EXISTS news (\n",
    "        country VARCHAR(255),\n",
    "        source_website VARCHAR(255),\n",
    "        author VARCHAR(255),\n",
    "        title VARCHAR(255),\n",
    "        published_at TIMESTAMP\n",
    "    );\n",
    "    \"\"\"\n",
    "    with psycopg.connect(**config.POSTGRES_CONFIG) as connection:\n",
    "        cursor = connection.cursor()\n",
    "        cursor.execute(create_table_command)\n",
    "        connection.commit()"
   ]
  },
  {
   "cell_type": "code",
   "execution_count": 94,
   "id": "c6f20af5-4312-4870-a113-5dbe200d6992",
   "metadata": {},
   "outputs": [],
   "source": [
    "create_news_table()"
   ]
  },
  {
   "cell_type": "code",
   "execution_count": 65,
   "id": "f780178f-8b51-40af-94f1-23244953a42c",
   "metadata": {},
   "outputs": [],
   "source": [
    "dataset = pd.read_csv('data/news_export_010224-23h33.csv')\n",
    "rows = [tuple(row) for row in dataset.values]"
   ]
  },
  {
   "cell_type": "code",
   "execution_count": 86,
   "id": "70150719-c486-467f-8568-c3077beb5a6f",
   "metadata": {},
   "outputs": [
    {
     "data": {
      "text/plain": [
       "['country', 'source_website', 'author', 'title', 'publishedAt']"
      ]
     },
     "execution_count": 86,
     "metadata": {},
     "output_type": "execute_result"
    }
   ],
   "source": [
    "dataset.columns.tolist()"
   ]
  },
  {
   "cell_type": "code",
   "execution_count": 98,
   "id": "4ecb0668-a164-4cfe-b9cd-8299a3322db6",
   "metadata": {},
   "outputs": [],
   "source": [
    "def insert_news(rows):\n",
    "    \"\"\" \n",
    "        Insert multiple news into the vendors table.\n",
    "    \"\"\"\n",
    "\n",
    "    insert_statement = sql.SQL(\"INSERT INTO {} ({}) VALUES ({});\").format(\n",
    "        sql.Identifier('news'),\n",
    "        sql.SQL(', ').join(map(sql.Identifier, \n",
    "                               ['country', 'source_website', 'author', 'title', 'published_at'])),\n",
    "        sql.SQL(', ').join(sql.Placeholder() * 5)\n",
    "    )\n",
    "    with psycopg.connect(**POSTGRES_CONFIG) as connection:\n",
    "        cursor = connection.cursor()\n",
    "        for values in rows:\n",
    "            cursor.execute(insert_statement, values)\n",
    "        connection.commit()"
   ]
  },
  {
   "cell_type": "code",
   "execution_count": 99,
   "id": "9e91252e-1b4a-4a1f-8b14-62032bdbc91a",
   "metadata": {},
   "outputs": [],
   "source": [
    "insert_news(rows)"
   ]
  },
  {
   "cell_type": "code",
   "execution_count": null,
   "id": "778bece4-620f-46f9-84b4-324a33eda94e",
   "metadata": {},
   "outputs": [],
   "source": []
  }
 ],
 "metadata": {
  "kernelspec": {
   "display_name": "Python 3 (ipykernel)",
   "language": "python",
   "name": "python3"
  },
  "language_info": {
   "codemirror_mode": {
    "name": "ipython",
    "version": 3
   },
   "file_extension": ".py",
   "mimetype": "text/x-python",
   "name": "python",
   "nbconvert_exporter": "python",
   "pygments_lexer": "ipython3",
   "version": "3.11.6"
  }
 },
 "nbformat": 4,
 "nbformat_minor": 5
}
